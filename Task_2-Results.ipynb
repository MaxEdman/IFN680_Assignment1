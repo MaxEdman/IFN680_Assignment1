{
 "cells": [
  {
   "cell_type": "code",
   "execution_count": 1,
   "metadata": {},
   "outputs": [],
   "source": [
    "import my_submission as ms\n",
    "#import function_tester as ft"
   ]
  },
  {
   "cell_type": "code",
   "execution_count": null,
   "metadata": {},
   "outputs": [],
   "source": [
    "ms.task_2()"
   ]
  },
  {
   "cell_type": "markdown",
   "metadata": {},
   "source": [
    "<h1>Results from running</h1>\n",
    "<p>\n",
    "    Stopped search after 19 generation. Best accuracy reached is 0.8925\n",
    "    </br>Hyperparameters found:\n",
    "    </br>nh1 = 61, nh2 = 67\n",
    "    </br>alpha = 0.19362400008386402, learning_rate_init = 0.12293427458551484\n",
    "</p>\n",
    "\n",
    "<p> ------------------------------------------------------------------ </p>\n",
    "\n",
    "<p>\n",
    "    Stopped search after 19 generation. Best accuracy reached is 0.8875\n",
    "    </br>Hyperparameters found:\n",
    "    </br>nh1 = 100, nh2 = 56\n",
    "    </br>alpha = 2.332213035683807, learning_rate_init = 0.10348447684990542\n",
    "</p>\n",
    "\n",
    "<p> ------------------------------------------------------------------ </p>\n",
    "\n",
    "<p>\n",
    "    Stopped search after 19 generation. Best accuracy reached is 0.88\n",
    "    </br>Hyperparameters found:\n",
    "    </br>nh1 = 32, nh2 = 40\n",
    "    </br>alpha = 1e-06, learning_rate_init = 0.10763554724175946\n",
    "</p>\n",
    "\n",
    "<p> ------------------------------------------------------------------ </p>\n",
    "\n",
    "<p>\n",
    "    Stopped search after 19 generation. Best accuracy reached is 0.8875\n",
    "    </br>Hyperparameters found:\n",
    "    </br>nh1 = 50, nh2 = 82\n",
    "    </br>alpha = 4.422562933488665, learning_rate_init = 0.028080050595810993\n",
    "</p>\n",
    "\n",
    "<p> ------------------------------------------------------------------ </p>\n",
    "\n",
    "\n"
   ]
  },
  {
   "cell_type": "code",
   "execution_count": null,
   "metadata": {},
   "outputs": [],
   "source": []
  }
 ],
 "metadata": {
  "kernelspec": {
   "display_name": "Python 3",
   "language": "python",
   "name": "python3"
  },
  "language_info": {
   "codemirror_mode": {
    "name": "ipython",
    "version": 3
   },
   "file_extension": ".py",
   "mimetype": "text/x-python",
   "name": "python",
   "nbconvert_exporter": "python",
   "pygments_lexer": "ipython3",
   "version": "3.6.5"
  }
 },
 "nbformat": 4,
 "nbformat_minor": 2
}
