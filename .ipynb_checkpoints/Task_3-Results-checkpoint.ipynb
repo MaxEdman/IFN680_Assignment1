{
 "cells": [
  {
   "cell_type": "code",
   "execution_count": null,
   "metadata": {},
   "outputs": [],
   "source": [
    "import my_submission as ms"
   ]
  },
  {
   "cell_type": "code",
   "execution_count": null,
   "metadata": {},
   "outputs": [],
   "source": [
    "ms.task_3()"
   ]
  },
  {
   "cell_type": "markdown",
   "metadata": {},
   "source": [
    "<h1>Results</h1>\n",
    "<p>\n",
    "    All results are based on the mean value of each combination where the sample size is <i>n<i/> = 10. \n",
    "</p>\n",
    "    \n",
    "<p>\n",
    "    <img width=400 src=\"task3_result_graphs/final_comparisson.png\"/>\n",
    "</p>\n",
    "\n",
    "<p> ------------------------------------------------------------------ </p>\n",
    "\n",
    "<p>\n",
    "    <img width=400 src=\"task3_result_graphs/pop5iter40.png\"/>\n",
    "</p>\n",
    "\n",
    "<p> ------------------------------------------------------------------ </p>\n",
    "\n",
    "<p>\n",
    "    <img width=400 src=\"task3_result_graphs/pop10iter20.png\"/>\n",
    "</p>\n",
    "\n",
    "<p> ------------------------------------------------------------------ </p>\n",
    "\n",
    "<p>\n",
    "    <img width=400 src=\"task3_result_graphs/pop20iter10.png\"/>\n",
    "</p>\n",
    "\n",
    "<p> ------------------------------------------------------------------ </p>\n",
    "\n",
    "<p>\n",
    "    <img width=400 src=\"task3_result_graphs/pop40iter5.png\"/>\n",
    "</p>\n",
    "\n",
    "<p> ------------------------------------------------------------------ </p>\n"
   ]
  },
  {
   "cell_type": "code",
   "execution_count": null,
   "metadata": {},
   "outputs": [],
   "source": []
  }
 ],
 "metadata": {
  "kernelspec": {
   "display_name": "Python 3",
   "language": "python",
   "name": "python3"
  },
  "language_info": {
   "codemirror_mode": {
    "name": "ipython",
    "version": 3
   },
   "file_extension": ".py",
   "mimetype": "text/x-python",
   "name": "python",
   "nbconvert_exporter": "python",
   "pygments_lexer": "ipython3",
   "version": "3.6.5"
  }
 },
 "nbformat": 4,
 "nbformat_minor": 2
}
