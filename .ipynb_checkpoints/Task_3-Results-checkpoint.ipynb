{
 "cells": [
  {
   "cell_type": "code",
   "execution_count": null,
   "metadata": {},
   "outputs": [],
   "source": [
    "import my_submission as ms"
   ]
  },
  {
   "cell_type": "code",
   "execution_count": null,
   "metadata": {},
   "outputs": [],
   "source": [
    "ms.task_3()"
   ]
  },
  {
   "cell_type": "markdown",
   "metadata": {},
   "source": [
    "<h1>Results</h1>\n",
    "<p>\n",
    "    <img width=400 src=\"task3_result_graphs/1.png\"/>\n",
    "</p>\n",
    "\n",
    "<p> ------------------------------------------------------------------ </p>\n",
    "\n",
    "<p>\n",
    "    <img width=400 src=\"task3_result_graphs/2.png\"/>\n",
    "</p>\n",
    "\n",
    "<p> ------------------------------------------------------------------ </p>\n",
    "\n",
    "<p>\n",
    "    <img width=400 src=\"task3_result_graphs/3.png\"/>\n",
    "</p>\n",
    "\n",
    "<p> ------------------------------------------------------------------ </p>\n",
    "\n",
    "<p>\n",
    "    <img width=400 src=\"task3_result_graphs/4.png\"/>\n",
    "</p>\n",
    "\n",
    "<p> ------------------------------------------------------------------ </p>\n",
    "\n",
    "<p>\n",
    "    <img width=400 src=\"task3_result_graphs/5.png\"/>\n",
    "</p>\n",
    "\n",
    "<p> ------------------------------------------------------------------ </p>\n",
    "\n",
    "<p>\n",
    "    <img width=400 src=\"task3_result_graphs/6.png\"/>\n",
    "</p>\n",
    "\n",
    "<p> ------------------------------------------------------------------ </p>\n",
    "\n",
    "<p>\n",
    "    <img width=400 src=\"task3_result_graphs/7.png\"/>\n",
    "</p>\n",
    "\n",
    "<p> ------------------------------------------------------------------ </p>\n",
    "\n",
    "<p>\n",
    "    <img width=400 src=\"task3_result_graphs/8.png\"/>\n",
    "</p>\n",
    "\n",
    "<p> ------------------------------------------------------------------ </p>\n",
    "\n",
    "<p>\n",
    "    <img width=400 src=\"task3_result_graphs/9.png\"/>\n",
    "</p>\n",
    "\n",
    "<p> ------------------------------------------------------------------ </p>\n",
    "\n",
    "<p>\n",
    "    <img width=400 src=\"task3_result_graphs/10.png\"/>\n",
    "</p>\n",
    "\n",
    "<p> ------------------------------------------------------------------ </p>\n",
    "\n",
    "<h1>Errors and Questions</h1>\n",
    "<h3>Questions:</h3>\n",
    "<p>\n",
    "    Why is it never reaching any test accuracy higher than 90 %?\n",
    "<p/>\n",
    "<h3>Errors</h3>\n",
    "<p>\n",
    "    <img src=\"error/task3_1.png\"/>\n",
    "<p/>"
   ]
  },
  {
   "cell_type": "code",
   "execution_count": null,
   "metadata": {},
   "outputs": [],
   "source": []
  }
 ],
 "metadata": {
  "kernelspec": {
   "display_name": "Python 3",
   "language": "python",
   "name": "python3"
  },
  "language_info": {
   "codemirror_mode": {
    "name": "ipython",
    "version": 3
   },
   "file_extension": ".py",
   "mimetype": "text/x-python",
   "name": "python",
   "nbconvert_exporter": "python",
   "pygments_lexer": "ipython3",
   "version": "3.6.5"
  }
 },
 "nbformat": 4,
 "nbformat_minor": 2
}
