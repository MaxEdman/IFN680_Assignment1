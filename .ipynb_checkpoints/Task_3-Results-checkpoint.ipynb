{
 "cells": [
  {
   "cell_type": "code",
   "execution_count": null,
   "metadata": {},
   "outputs": [],
   "source": [
    "import my_submission as ms"
   ]
  },
  {
   "cell_type": "code",
   "execution_count": null,
   "metadata": {},
   "outputs": [],
   "source": [
    "ms.task_3()"
   ]
  },
  {
   "cell_type": "markdown",
   "metadata": {},
   "source": [
    "<h3>Results</h3>\n",
    "<p>\n",
    "    <img width=400 src=\"task3_result_graphs/1.png\"/>\n",
    "</p>\n",
    "\n",
    "<p> ------------------------------------------------------------------ </p>\n",
    "\n",
    "<p>\n",
    "    <img width=400 src=\"task3_result_graphs/2.png\"/>\n",
    "</p>\n",
    "\n",
    "<p> ------------------------------------------------------------------ </p>\n",
    "\n",
    "<p>\n",
    "    <img width=400 src=\"task3_result_graphs/3.png\"/>\n",
    "</p>\n",
    "\n",
    "<p> ------------------------------------------------------------------ </p>\n",
    "\n",
    "<p>\n",
    "    <img width=400 src=\"task3_result_graphs/4.png\"/>\n",
    "</p>\n",
    "\n",
    "<p> ------------------------------------------------------------------ </p>"
   ]
  },
  {
   "cell_type": "code",
   "execution_count": null,
   "metadata": {},
   "outputs": [],
   "source": []
  }
 ],
 "metadata": {
  "kernelspec": {
   "display_name": "Python 3",
   "language": "python",
   "name": "python3"
  },
  "language_info": {
   "codemirror_mode": {
    "name": "ipython",
    "version": 3
   },
   "file_extension": ".py",
   "mimetype": "text/x-python",
   "name": "python",
   "nbconvert_exporter": "python",
   "pygments_lexer": "ipython3",
   "version": "3.6.5"
  }
 },
 "nbformat": 4,
 "nbformat_minor": 2
}
