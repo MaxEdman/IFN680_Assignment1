{
 "cells": [
  {
   "cell_type": "code",
   "execution_count": 1,
   "metadata": {},
   "outputs": [],
   "source": [
    "import my_submission as ms"
   ]
  },
  {
   "cell_type": "code",
   "execution_count": 2,
   "metadata": {},
   "outputs": [
    {
     "name": "stderr",
     "output_type": "stream",
     "text": [
      "/anaconda3/lib/python3.6/site-packages/sklearn/utils/validation.py:475: DataConversionWarning: Data with input dtype uint8 was converted to float64 by StandardScaler.\n",
      "  warnings.warn(msg, DataConversionWarning)\n",
      "/anaconda3/lib/python3.6/site-packages/sklearn/neural_network/multilayer_perceptron.py:564: ConvergenceWarning: Stochastic Optimizer: Maximum iterations (100) reached and the optimization hasn't converged yet.\n",
      "  % self.max_iter, ConvergenceWarning)\n"
     ]
    },
    {
     "name": "stdout",
     "output_type": "stream",
     "text": [
      "** Lowest cost in initial population = -0.405 \n",
      "** Starting generation 1, \n",
      "** Starting generation 2, \n",
      "** Starting generation 3, \n"
     ]
    },
    {
     "name": "stderr",
     "output_type": "stream",
     "text": [
      "/anaconda3/lib/python3.6/site-packages/sklearn/neural_network/_base.py:91: RuntimeWarning: invalid value encountered in subtract\n",
      "  tmp = X - X.max(axis=1)[:, np.newaxis]\n"
     ]
    },
    {
     "name": "stdout",
     "output_type": "stream",
     "text": [
      "** Starting generation 4, \n",
      "** Starting generation 5, \n",
      "** Starting generation 6, \n",
      "** Starting generation 7, \n",
      "** Starting generation 8, \n",
      "** Starting generation 9, \n",
      "** Starting generation 10, \n",
      "** Starting generation 11, \n",
      "** Starting generation 12, \n",
      "** Starting generation 13, \n",
      "** Starting generation 14, \n",
      "** Starting generation 15, \n",
      "** Starting generation 16, \n",
      "** Starting generation 17, \n",
      "** Starting generation 18, \n",
      "** Starting generation 19, \n",
      "** Starting generation 20, \n",
      "** Starting generation 21, \n",
      "** Starting generation 22, \n",
      "** Starting generation 23, \n",
      "** Starting generation 24, \n",
      "** Starting generation 25, \n",
      "** Starting generation 26, \n",
      "** Starting generation 27, \n",
      "** Starting generation 28, \n",
      "** Starting generation 29, \n",
      "** Starting generation 30, \n",
      "** Starting generation 31, \n",
      "** Starting generation 32, \n",
      "** Starting generation 33, \n",
      "** Starting generation 34, \n",
      "** Starting generation 35, \n",
      "** Starting generation 36, \n",
      "** Starting generation 37, \n",
      "** Starting generation 38, \n",
      "** Starting generation 39, \n",
      "** Starting generation 40, \n",
      "** Lowest cost in initial population = -0.8475 \n",
      "** Starting generation 1, \n",
      "** Starting generation 2, \n",
      "** Starting generation 3, \n",
      "** Starting generation 4, \n",
      "** Starting generation 5, \n",
      "** Starting generation 6, \n",
      "** Starting generation 7, \n",
      "** Starting generation 8, \n",
      "** Starting generation 9, \n",
      "** Starting generation 10, \n",
      "** Starting generation 11, \n",
      "** Starting generation 12, \n",
      "** Starting generation 13, \n",
      "** Starting generation 14, \n",
      "** Starting generation 15, \n",
      "** Starting generation 16, \n",
      "** Starting generation 17, \n",
      "** Starting generation 18, \n",
      "** Starting generation 19, \n",
      "** Starting generation 20, \n",
      "** Lowest cost in initial population = -0.8675 \n",
      "** Starting generation 1, \n",
      "** Starting generation 2, \n",
      "** Starting generation 3, \n",
      "** Starting generation 4, \n",
      "** Starting generation 5, \n",
      "** Starting generation 6, \n",
      "** Starting generation 7, \n",
      "** Starting generation 8, \n",
      "** Starting generation 9, \n",
      "** Starting generation 10, \n",
      "** Lowest cost in initial population = -0.88 \n",
      "** Starting generation 1, \n",
      "** Starting generation 2, \n",
      "** Starting generation 3, \n",
      "** Starting generation 4, \n",
      "** Starting generation 5, \n"
     ]
    },
    {
     "data": {
      "image/png": "[encoded data removed]",
      "text/plain": [
       "<Figure size 432x288 with 1 Axes>"
      ]
     },
     "metadata": {},
     "output_type": "display_data"
    }
   ],
   "source": [
    "ms.task_3()"
   ]
  },
  {
   "cell_type": "markdown",
   "metadata": {},
   "source": [
    "<h1>Results</h1>\n",
    "<p>\n",
    "    <img width=400 src=\"task3_result_graphs/1.png\"/>\n",
    "</p>\n",
    "\n",
    "<p> ------------------------------------------------------------------ </p>\n",
    "\n",
    "<p>\n",
    "    <img width=400 src=\"task3_result_graphs/2.png\"/>\n",
    "</p>\n",
    "\n",
    "<p> ------------------------------------------------------------------ </p>\n",
    "\n",
    "<p>\n",
    "    <img width=400 src=\"task3_result_graphs/3.png\"/>\n",
    "</p>\n",
    "\n",
    "<p> ------------------------------------------------------------------ </p>\n",
    "\n",
    "<p>\n",
    "    <img width=400 src=\"task3_result_graphs/4.png\"/>\n",
    "</p>\n",
    "\n",
    "<p> ------------------------------------------------------------------ </p>\n",
    "\n",
    "<p>\n",
    "    <img width=400 src=\"task3_result_graphs/5.png\"/>\n",
    "</p>\n",
    "\n",
    "<p> ------------------------------------------------------------------ </p>\n",
    "\n",
    "<p>\n",
    "    <img width=400 src=\"task3_result_graphs/6.png\"/>\n",
    "</p>\n",
    "\n",
    "<p> ------------------------------------------------------------------ </p>\n",
    "\n",
    "<p>\n",
    "    <img width=400 src=\"task3_result_graphs/7.png\"/>\n",
    "</p>\n",
    "\n",
    "<p> ------------------------------------------------------------------ </p>\n",
    "\n",
    "<p>\n",
    "    <img width=400 src=\"task3_result_graphs/8.png\"/>\n",
    "</p>\n",
    "\n",
    "<p> ------------------------------------------------------------------ </p>\n",
    "\n",
    "<p>\n",
    "    <img width=400 src=\"task3_result_graphs/9.png\"/>\n",
    "</p>\n",
    "\n",
    "<p> ------------------------------------------------------------------ </p>\n",
    "\n",
    "<p>\n",
    "    <img width=400 src=\"task3_result_graphs/10.png\"/>\n",
    "</p>\n",
    "\n",
    "<p> ------------------------------------------------------------------ </p>\n",
    "\n",
    "<h1>Errors and Questions</h1>\n",
    "<h3>Questions:</h3>\n",
    "<p>\n",
    "    Why is it never reaching any test accuracy higher than 90 %?\n",
    "<p/>\n",
    "<h3>Errors</h3>\n",
    "<p>\n",
    "    <img src=\"error/task3_1.png\"/>\n",
    "<p/>"
   ]
  },
  {
   "cell_type": "code",
   "execution_count": null,
   "metadata": {},
   "outputs": [],
   "source": []
  }
 ],
 "metadata": {
  "kernelspec": {
   "display_name": "Python 3",
   "language": "python",
   "name": "python3"
  },
  "language_info": {
   "codemirror_mode": {
    "name": "ipython",
    "version": 3
   },
   "file_extension": ".py",
   "mimetype": "text/x-python",
   "name": "python",
   "nbconvert_exporter": "python",
   "pygments_lexer": "ipython3",
   "version": "3.6.5"
  }
 },
 "nbformat": 4,
 "nbformat_minor": 2
}
