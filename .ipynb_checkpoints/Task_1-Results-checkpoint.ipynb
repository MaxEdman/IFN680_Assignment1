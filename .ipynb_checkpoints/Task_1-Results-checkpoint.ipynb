{
 "cells": [
  {
   "cell_type": "code",
   "execution_count": null,
   "metadata": {},
   "outputs": [],
   "source": [
    "import my_submission as ms"
   ]
  },
  {
   "cell_type": "code",
   "execution_count": null,
   "metadata": {},
   "outputs": [],
   "source": [
    "ms.task_1()"
   ]
  },
  {
   "cell_type": "markdown",
   "metadata": {},
   "source": [
    "<h3>Results</h3>\n",
    "<p>\n",
    "    Stopped search after 1999 generation. Best cost found is 3.3344474835741247\n",
    "    <img width=300 src=\"task1_result_graphs/1.png\"/>\n",
    "</p>\n",
    "\n",
    "<p> ------------------------------------------------------------------ </p>\n",
    "\n",
    "<p>\n",
    "    Stopped search after 123 generation. Best cost found is 0.4805298894927723\n",
    "    <img width=300 src=\"task1_result_graphs/2.png\"/>\n",
    "</p>\n",
    "\n",
    "<p> ------------------------------------------------------------------ </p>\n",
    "\n",
    "<p>\n",
    "    Stopped search after 1999 generation. Best cost found is 2.2152526210373082\n",
    "    <img width=300 src=\"task1_result_graphs/3.png\"/>\n",
    "</p>\n",
    "\n",
    "<p> ------------------------------------------------------------------ </p>\n",
    "\n",
    "<p>\n",
    "    Stopped search after 111 generation. Best cost found is 0.49645919885882045\n",
    "    <img width=300 src=\"task1_result_graphs/4.png\"/>\n",
    "</p>\n",
    "\n",
    "<p> ------------------------------------------------------------------ </p>\n",
    "\n",
    "<p>\n",
    "    Stopped search after 1999 generation. Best cost found is 2.2851163223211945\n",
    "    <img width=300 src=\"task1_result_graphs/5.png\"/>\n",
    "</p>\n",
    "\n",
    "<p> ------------------------------------------------------------------ </p>\n",
    "\n",
    "<p>\n",
    "    Stopped search after 1999 generation. Best cost found is 1.338179306241779\n",
    "    <img width=300 src=\"task1_result_graphs/6.png\"/>\n",
    "</p>\n",
    "\n",
    "<p> ------------------------------------------------------------------ </p>\n",
    "\n",
    "<p>\n",
    "    Stopped search after 1999 generation. Best cost found is 12.786771477232186\n",
    "    <img width=300 src=\"task1_result_graphs/7.png\"/>\n",
    "</p>\n",
    "\n",
    "<p> ------------------------------------------------------------------ </p>\n",
    "\n",
    "<p>\n",
    "    Stopped search after 139 generation. Best cost found is 0.3197182300162026\n",
    "    <img width=300 src=\"task1_result_graphs/8.png\"/>\n",
    "</p>\n",
    "\n",
    "<p> ------------------------------------------------------------------ </p>\n",
    "\n",
    "<p>\n",
    "    Stopped search after 130 generation. Best cost found is 0.487564929559158\n",
    "    <img width=300 src=\"task1_result_graphs/9.png\"/>\n",
    "</p>\n",
    "\n",
    "<p> ------------------------------------------------------------------ </p>\n",
    "\n",
    "<p>\n",
    "    Stopped search after 153 generation. Best cost found is 0.4819172251320412\n",
    "    <img width=300 src=\"task1_result_graphs/10.png\"/>\n",
    "</p>\n"
   ]
  }
 ],
 "metadata": {
  "kernelspec": {
   "display_name": "Python 3",
   "language": "python",
   "name": "python3"
  },
  "language_info": {
   "codemirror_mode": {
    "name": "ipython",
    "version": 3
   },
   "file_extension": ".py",
   "mimetype": "text/x-python",
   "name": "python",
   "nbconvert_exporter": "python",
   "pygments_lexer": "ipython3",
   "version": "3.6.5"
  }
 },
 "nbformat": 4,
 "nbformat_minor": 2
}
